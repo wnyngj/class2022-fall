{
  "nbformat": 4,
  "nbformat_minor": 0,
  "metadata": {
    "colab": {
      "provenance": [],
      "authorship_tag": "ABX9TyPcrj+vh8+ssyLVPceTW2ns",
      "include_colab_link": true
    },
    "kernelspec": {
      "name": "python3",
      "display_name": "Python 3"
    },
    "language_info": {
      "name": "python"
    }
  },
  "cells": [
    {
      "cell_type": "markdown",
      "metadata": {
        "id": "view-in-github",
        "colab_type": "text"
      },
      "source": [
        "<a href=\"https://colab.research.google.com/github/wnyngj/class2022-fall/blob/main/2019130718.ipynb\" target=\"_parent\"><img src=\"https://colab.research.google.com/assets/colab-badge.svg\" alt=\"Open In Colab\"/></a>"
      ]
    },
    {
      "cell_type": "code",
      "execution_count": 1,
      "metadata": {
        "colab": {
          "base_uri": "https://localhost:8080/"
        },
        "id": "MY_KXXRmCeCJ",
        "outputId": "95b5e9e3-02a9-4971-e381-3dad4dce2bf6"
      },
      "outputs": [
        {
          "output_type": "stream",
          "name": "stdout",
          "text": [
            "총 문자수: 2274\n",
            "한글 문자수: 1468\n",
            "영문 문자수: 129\n",
            "숫자 문자수: 36\n",
            "문장부호 및 특수문자 문자수: 121\n",
            "공백 문자수 520\n"
          ]
        }
      ],
      "source": [
        "#1번\n",
        "import re\n",
        "a=open('Q1.txt').read()\n",
        "print('총 문자수:',str(len(a)))\n",
        "print('한글 문자수:',str(len(re.findall('[가-힣]',a))))\n",
        "print('영문 문자수:', str(len(re.findall('[a-zA-Z]',a))))\n",
        "print('숫자 문자수:',str(len(re.findall('[0-9]',a))))\n",
        "print('문장부호 및 특수문자 문자수:', str(len(re.findall('\\W',''.join(a.split())))))\n",
        "print('공백 문자수',str(len(re.findall('\\s',a))))"
      ]
    },
    {
      "cell_type": "code",
      "source": [
        "#2번\n",
        "import re\n",
        "a=''.join(open('Q2.txt').readlines())\n",
        "소설sum=0\n",
        "수필sum=0\n",
        "정보sum=0\n",
        "for x in re.findall('\\d+[.]txt\\t소설\\t(\\d+[.]\\d+)\\n',a):\n",
        "  소설sum+=float(x)\n",
        "for y in re.findall('\\d+[.]txt\\t수필\\t(\\d+[.]\\d+)\\n',a):\n",
        "  수필sum+=float(y)\n",
        "for z in re.findall('\\d+[.]txt\\t정보\\t(\\d+[.]\\d+)\\n',a):\n",
        "  정보sum+=float(z)\n",
        "print('소설파일수:',str(len(re.findall('\\d+[.]txt\\t소설\\t\\d+[.]\\d+\\n',a))),'소설일인칭대명사합계:',str(소설sum))\n",
        "print('수필파일수:',str(len(re.findall('\\d+[.]txt\\t수필\\t\\d+[.]\\d+\\n',a))),'수필일인칭대명사합계:',str(수필sum))\n",
        "print('정보파일수:',str(len(re.findall('\\d+[.]txt\\t정보\\t\\d+[.]\\d+\\n',a))),'정보일인칭대명사합계:',str(정보sum))"
      ],
      "metadata": {
        "colab": {
          "base_uri": "https://localhost:8080/"
        },
        "id": "eaf_RVMZCm2V",
        "outputId": "202da889-77c0-4ec1-e2ec-fe24e47e1f65"
      },
      "execution_count": 2,
      "outputs": [
        {
          "output_type": "stream",
          "name": "stdout",
          "text": [
            "소설파일수: 10 소설일인칭대명사합계: 0.1006043761944354\n",
            "수필파일수: 10 수필일인칭대명사합계: 0.0751413011739345\n",
            "정보파일수: 10 정보일인칭대명사합계: 0.05875737559592881\n"
          ]
        }
      ]
    },
    {
      "cell_type": "code",
      "source": [
        "#3번\n",
        "import re\n",
        "a=open('Q3.txt').read().split('\\n\\n')\n",
        "J=[]\n",
        "for i in a:\n",
        "    J+=re.findall('Juliet[.]\\s(.+)',i,re.S)\n",
        "open('Q3_out.txt','w').write('\\n'.join(J))"
      ],
      "metadata": {
        "colab": {
          "base_uri": "https://localhost:8080/"
        },
        "id": "VZE-HGYLCprK",
        "outputId": "b62636be-88cd-475c-86bb-4a7232a879bf"
      },
      "execution_count": 3,
      "outputs": [
        {
          "output_type": "execute_result",
          "data": {
            "text/plain": [
              "795"
            ]
          },
          "metadata": {},
          "execution_count": 3
        }
      ]
    }
  ]
}